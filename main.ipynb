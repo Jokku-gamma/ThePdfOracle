{
 "cells": [
  {
   "cell_type": "code",
   "execution_count": 2,
   "id": "0f182567",
   "metadata": {},
   "outputs": [
    {
     "data": {
      "text/plain": [
       "True"
      ]
     },
     "execution_count": 2,
     "metadata": {},
     "output_type": "execute_result"
    }
   ],
   "source": [
    "import pdfplumber\n",
    "from pinecone import Pinecone,ServerlessSpec\n",
    "from langchain_openai import ChatOpenAI,OpenAIEmbeddings\n",
    "from langchain.prompts import ChatPromptTemplate\n",
    "import os\n",
    "from dotenv import load_dotenv\n",
    "load_dotenv()\n"
   ]
  },
  {
   "cell_type": "code",
   "execution_count": 3,
   "id": "c1ef84c1",
   "metadata": {},
   "outputs": [],
   "source": [
    "OPENAI_API_KEY = os.getenv(\"OPENAI_API_KEY\")\n",
    "PINECONE_API_KEY = os.getenv(\"PINECONE_API_KEY\")\n",
    "PINECONE_INDEX_NAME = os.getenv(\"PINECONE_INDEX_NAME\")\n",
    "PINECONE_CLOUD = os.getenv(\"PINECONE_CLOUD\")\n",
    "PINECONE_REGION = os.getenv(\"PINECONE_REGION\")\n",
    "EMBEDDING_MODEL = os.getenv(\"EMBEDDING_MODEL\", \"text-embedding-3-small\") \n",
    "LLM_MODEL = os.getenv(\"LLM_MODEL\", \"gpt-4o-mini\") \n",
    "CHUNK_SIZE = int(os.getenv(\"CHUNK_SIZE\", 500))  \n",
    "TOP_K = int(os.getenv(\"TOP_K\", 3)) \n",
    "PINECONE_NAMESPACE = os.getenv(\"PINECONE_NAMESPACE\", \"pdf_namespace\")"
   ]
  },
  {
   "cell_type": "code",
   "execution_count": 4,
   "id": "a70c1f73",
   "metadata": {},
   "outputs": [],
   "source": [
    "try:\n",
    "    embedder=OpenAIEmbeddings(model=EMBEDDING_MODEL,api_key=os.environ[\"OPENAI_API_KEY\"])\n",
    "except Exception as e:\n",
    "    print(f\"Error initializing Openai embdeddings :{e}\")\n",
    "    exit(1)"
   ]
  },
  {
   "cell_type": "code",
   "execution_count": 5,
   "id": "3e0ef8e9",
   "metadata": {},
   "outputs": [],
   "source": [
    "try:\n",
    "    pc=Pinecone(api_key=PINECONE_API_KEY)\n",
    "except Exception as e:\n",
    "    print(f\"Error initaliing Pincone: :{e}\")\n",
    "    exit(1)"
   ]
  },
  {
   "cell_type": "code",
   "execution_count": 6,
   "id": "6bd6063e",
   "metadata": {},
   "outputs": [],
   "source": [
    "try:\n",
    "    if PINECONE_INDEX_NAME not in pc.list_indexes().names():\n",
    "        pc.create_index(\n",
    "            name=PINECONE_INDEX_NAME,\n",
    "            dimension=1536,\n",
    "            metric=\"cosine\",\n",
    "            spec=ServerlessSpec(\n",
    "                cloud=PINECONE_CLOUD,\n",
    "                region=PINECONE_REGION\n",
    "            )\n",
    "        )\n",
    "        index=pc.Index(PINECONE_INDEX_NAME)\n",
    "except Exception as E:\n",
    "    print(f\"Error in connecting to Pinecone INDEX {E}\")\n",
    "    exit(1)"
   ]
  },
  {
   "cell_type": "code",
   "execution_count": 10,
   "id": "c3eb61bb",
   "metadata": {},
   "outputs": [
    {
     "data": {
      "text/plain": [
       "{'dimension': 1536,\n",
       " 'index_fullness': 0.0,\n",
       " 'metric': 'cosine',\n",
       " 'namespaces': {'pdf_namespace': {'vector_count': 41}},\n",
       " 'total_vector_count': 41,\n",
       " 'vector_type': 'dense'}"
      ]
     },
     "execution_count": 10,
     "metadata": {},
     "output_type": "execute_result"
    }
   ],
   "source": [
    "index.describe_index_stats()"
   ]
  },
  {
   "cell_type": "code",
   "execution_count": 7,
   "id": "8d04c72f",
   "metadata": {},
   "outputs": [],
   "source": [
    "try:\n",
    "    llm=ChatOpenAI(\n",
    "        model=LLM_MODEL,\n",
    "        api_key=os.environ[\"OPENAI_API_KEY\"]\n",
    "    )\n",
    "except Exception as e:\n",
    "    print(f\"Error in Initialiing Openai llm :{e}\")\n",
    "    exit(1)"
   ]
  },
  {
   "cell_type": "code",
   "execution_count": 11,
   "id": "0a85c9f6",
   "metadata": {},
   "outputs": [],
   "source": [
    "prompt_template=ChatPromptTemplate.from_template(\n",
    "    \"Based on the following context,answer the question :\\n\\nContext :{context} \\n\\nQuestion :{question}\\n\\nAnswer: \"\n",
    ")"
   ]
  },
  {
   "cell_type": "code",
   "execution_count": 12,
   "id": "51b8df55",
   "metadata": {},
   "outputs": [],
   "source": [
    "def extract_text(pdf_path):\n",
    "    try:\n",
    "        text=\"\"\n",
    "        with pdfplumber.open(pdf_path) as pdf:\n",
    "            for page in pdf.pages:\n",
    "                text+=page.extract_text() or \"\"\n",
    "        return text\n",
    "    except Exception as e:\n",
    "        print(f\"Error extracting text :{e}\")\n",
    "        return \"\""
   ]
  },
  {
   "cell_type": "code",
   "execution_count": 13,
   "id": "2c74468a",
   "metadata": {},
   "outputs": [],
   "source": [
    "def chunk_text(text,chunk_size=CHUNK_SIZE):\n",
    "    return [text[i:i+chunk_size] for i in range(0,len(text),chunk_size)]\n"
   ]
  },
  {
   "cell_type": "code",
   "execution_count": 14,
   "id": "a2b54759",
   "metadata": {},
   "outputs": [],
   "source": [
    "def create_embeddings(chunks,embedder):\n",
    "    try:\n",
    "        return embedder.embed_documents(chunks)\n",
    "    except Exception as e:\n",
    "        print(f\"Error creating embeddings {e}\")\n",
    "        return []"
   ]
  },
  {
   "cell_type": "code",
   "execution_count": 15,
   "id": "4ef87452",
   "metadata": {},
   "outputs": [],
   "source": [
    "def store_pinecone(chunks,embeddings,index):\n",
    "    vectors=[\n",
    "        {\"id\":f\"chunk_{i}\",\"values\":embedding,\"metadata\":{\"text\":chunk}} for i,(chunk,embedding) in enumerate(zip(chunks,embeddings))\n",
    "    ]\n",
    "    try:\n",
    "        index.upsert(vectors=vectors,namespace=PINECONE_NAMESPACE)\n",
    "        print(f\"Upserted {len(vectors)} vectors\")\n",
    "    except Exception as e:\n",
    "        print(f\"Error in upserting to Pinecone {e}\")"
   ]
  },
  {
   "cell_type": "code",
   "execution_count": 16,
   "id": "1fab257f",
   "metadata": {},
   "outputs": [],
   "source": [
    "def retrieve_chunks(query,index,embedder,top_k=TOP_K):\n",
    "    try:\n",
    "        query=embedder.embed_query(query)\n",
    "        results=index.query(\n",
    "            vector=query,\n",
    "            top_k=top_k,\n",
    "            include_metadata=True,\n",
    "            namespace=PINECONE_NAMESPACE\n",
    "        )\n",
    "        return [match[\"metadata\"][\"text\"] for match in results[\"matches\"]]\n",
    "    except Exception as e:\n",
    "        print(f\"Error querying Pinecone {e}\")\n",
    "        return []"
   ]
  },
  {
   "cell_type": "code",
   "execution_count": 17,
   "id": "2898db02",
   "metadata": {},
   "outputs": [],
   "source": [
    "def gen_answer(query,rel_chunks,llm,prompt_template):\n",
    "    try:\n",
    "        context=\"\\n\".join(rel_chunks)\n",
    "        prompt=prompt_template.format_messages(context=context,question=query)\n",
    "        response=llm.invoke(prompt)\n",
    "        return response.content\n",
    "    except Exception as e:\n",
    "        print(f\"Error generating answer : {e}\")\n",
    "        return \"Failed to gen answer\""
   ]
  },
  {
   "cell_type": "code",
   "execution_count": 18,
   "id": "54083d6a",
   "metadata": {},
   "outputs": [],
   "source": [
    "def process_pdf(pdf_path,query):\n",
    "    pdf_text=extract_text(pdf_path)\n",
    "    if not pdf_text:\n",
    "        return \"No text extracted from PDF\"\n",
    "    chunks=chunk_text(pdf_text)\n",
    "    embeddings=create_embeddings(chunks,embedder)\n",
    "    if not embeddings:\n",
    "        return \"Failed to create embdeddings\"\n",
    "    store_pinecone(chunks,embeddings,index)\n",
    "    rel_chunks=retrieve_chunks(query,index,embedder)\n",
    "    if not rel_chunks:\n",
    "        return \"No revelant information\"\n",
    "    answer=gen_answer(query,rel_chunks,llm,prompt_template)\n",
    "    return answer\n"
   ]
  },
  {
   "cell_type": "code",
   "execution_count": 19,
   "id": "c674890f",
   "metadata": {},
   "outputs": [],
   "source": [
    "import tkinter as tk\n",
    "from tkinter import filedialog"
   ]
  },
  {
   "cell_type": "code",
   "execution_count": 20,
   "id": "5f6cec25",
   "metadata": {},
   "outputs": [
    {
     "name": "stderr",
     "output_type": "stream",
     "text": [
      "CropBox missing from /Page, defaulting to MediaBox\n",
      "CropBox missing from /Page, defaulting to MediaBox\n",
      "CropBox missing from /Page, defaulting to MediaBox\n",
      "CropBox missing from /Page, defaulting to MediaBox\n",
      "CropBox missing from /Page, defaulting to MediaBox\n",
      "CropBox missing from /Page, defaulting to MediaBox\n",
      "CropBox missing from /Page, defaulting to MediaBox\n",
      "CropBox missing from /Page, defaulting to MediaBox\n",
      "CropBox missing from /Page, defaulting to MediaBox\n",
      "CropBox missing from /Page, defaulting to MediaBox\n",
      "CropBox missing from /Page, defaulting to MediaBox\n",
      "CropBox missing from /Page, defaulting to MediaBox\n",
      "CropBox missing from /Page, defaulting to MediaBox\n",
      "CropBox missing from /Page, defaulting to MediaBox\n",
      "CropBox missing from /Page, defaulting to MediaBox\n",
      "CropBox missing from /Page, defaulting to MediaBox\n",
      "CropBox missing from /Page, defaulting to MediaBox\n",
      "CropBox missing from /Page, defaulting to MediaBox\n",
      "CropBox missing from /Page, defaulting to MediaBox\n",
      "CropBox missing from /Page, defaulting to MediaBox\n",
      "CropBox missing from /Page, defaulting to MediaBox\n",
      "CropBox missing from /Page, defaulting to MediaBox\n",
      "CropBox missing from /Page, defaulting to MediaBox\n",
      "CropBox missing from /Page, defaulting to MediaBox\n",
      "CropBox missing from /Page, defaulting to MediaBox\n",
      "CropBox missing from /Page, defaulting to MediaBox\n",
      "CropBox missing from /Page, defaulting to MediaBox\n",
      "CropBox missing from /Page, defaulting to MediaBox\n",
      "CropBox missing from /Page, defaulting to MediaBox\n",
      "CropBox missing from /Page, defaulting to MediaBox\n",
      "CropBox missing from /Page, defaulting to MediaBox\n",
      "CropBox missing from /Page, defaulting to MediaBox\n",
      "CropBox missing from /Page, defaulting to MediaBox\n",
      "CropBox missing from /Page, defaulting to MediaBox\n",
      "CropBox missing from /Page, defaulting to MediaBox\n",
      "CropBox missing from /Page, defaulting to MediaBox\n",
      "CropBox missing from /Page, defaulting to MediaBox\n",
      "CropBox missing from /Page, defaulting to MediaBox\n",
      "CropBox missing from /Page, defaulting to MediaBox\n",
      "CropBox missing from /Page, defaulting to MediaBox\n",
      "CropBox missing from /Page, defaulting to MediaBox\n",
      "CropBox missing from /Page, defaulting to MediaBox\n",
      "CropBox missing from /Page, defaulting to MediaBox\n",
      "CropBox missing from /Page, defaulting to MediaBox\n",
      "CropBox missing from /Page, defaulting to MediaBox\n",
      "CropBox missing from /Page, defaulting to MediaBox\n"
     ]
    },
    {
     "name": "stdout",
     "output_type": "stream",
     "text": [
      "Upserted 41 vectors\n",
      "Answer : Macroeconomics is a branch of economics that studies the behavior and performance of an economy as a whole. It focuses on aggregate indicators and phenomena such as national income, overall unemployment rates, inflation, economic growth, and the interactions among those factors within an entire economy. Unlike microeconomics, which examines individual consumers and businesses, macroeconomics looks at the broad trends and patterns that impact large groups of people and economic systems. Key components of macroeconomics include fiscal policy, monetary policy, and economic indicators that help assess the health and trajectory of an economy.\n"
     ]
    }
   ],
   "source": [
    "if __name__==\"__main__\":\n",
    "    root=tk.Tk()\n",
    "    root.withdraw()\n",
    "    pdf_path=filedialog.askopenfilename(\n",
    "        title=\"Select a PDF file\",\n",
    "        filetypes=[(\"PDF files\",\"*.pdf\"),(\"All files\",\"*.*\")]\n",
    "\n",
    "    )\n",
    "    if pdf_path:\n",
    "        query=input(\"Ask a question about the PDF\")\n",
    "        try:\n",
    "            answer=process_pdf(pdf_path,query)\n",
    "            print(\"Answer :\",answer)\n",
    "        except Exception as e:\n",
    "            print(f\"Error processing PDF :{e}\")\n",
    "    else:\n",
    "        print(\"No PDF file selected\")"
   ]
  }
 ],
 "metadata": {
  "kernelspec": {
   "display_name": "pdfvenv",
   "language": "python",
   "name": "python3"
  },
  "language_info": {
   "codemirror_mode": {
    "name": "ipython",
    "version": 3
   },
   "file_extension": ".py",
   "mimetype": "text/x-python",
   "name": "python",
   "nbconvert_exporter": "python",
   "pygments_lexer": "ipython3",
   "version": "3.12.3"
  }
 },
 "nbformat": 4,
 "nbformat_minor": 5
}
